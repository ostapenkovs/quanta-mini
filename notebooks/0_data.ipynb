{
 "cells": [
  {
   "cell_type": "code",
   "execution_count": null,
   "metadata": {},
   "outputs": [],
   "source": [
    "import sys, os\n",
    "from dotenv import load_dotenv\n",
    "import numpy as np\n",
    "from numpy import log, exp, sqrt\n",
    "import pandas as pd\n",
    "import wrds\n",
    "\n",
    "load_dotenv()\n",
    "WRDS_USER = os.getenv('WRDS_USER')\n",
    "WRDS_PASS = os.getenv('WRDS_PASS')"
   ]
  },
  {
   "cell_type": "code",
   "execution_count": null,
   "metadata": {},
   "outputs": [],
   "source": [
    "ticker = 'AAPL'\n",
    "start_date = '2010-01-01'\n",
    "end_date = '2015-01-01'\n",
    "# min. pct. that daily volume is above 20 day volume SMA\n",
    "volume_breakout_thresh = 0.75\n",
    "# min. pct. stock is up on day of volume breakout\n",
    "change_thresh = 0.05\n",
    "# number of days investment held\n",
    "holding_period = 10"
   ]
  }
 ],
 "metadata": {
  "kernelspec": {
   "display_name": "myenv",
   "language": "python",
   "name": "python3"
  },
  "language_info": {
   "codemirror_mode": {
    "name": "ipython",
    "version": 3
   },
   "file_extension": ".py",
   "mimetype": "text/x-python",
   "name": "python",
   "nbconvert_exporter": "python",
   "pygments_lexer": "ipython3",
   "version": "3.10.14"
  }
 },
 "nbformat": 4,
 "nbformat_minor": 2
}
